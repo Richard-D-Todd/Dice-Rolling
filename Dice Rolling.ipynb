{
 "cells": [
  {
   "cell_type": "markdown",
   "metadata": {},
   "source": [
    "# Dice Rolls Probabilities and Simulations\n",
    "\n",
    "Here I will calculate probabilties for outcomes of rolling multiple dice of various geometries.\n",
    "I also want to simulate dice rolls and use Matplotlib to plot the frequencies as histograms.\n",
    "Throughout the notebook I use the following convention to talk about dice rolls:\n",
    "\n",
    "_**xDd + m (e.g 2D20 + 5)**_\n",
    "\n",
    "* _**x: The number of dice rolled in a single roll.**_\n",
    "* _**d: The number of faces on a die (in reality these are restricted to platonic solids).**_\n",
    "* _**m: A modifier that is used to add a fixed value to the outcome of rolling xDd.**_\n",
    "\n",
    "So for example _**2D6**_ means rolling two sixed-sided dice and adding the resulting outcomes. Rolling _**3D4 + 2**_ means rolling three four-sided dice, summing their results and then adding a value of 2.\n",
    "\n",
    "## Simulating Dice Rolls\n",
    "\n",
    "I have written two functions to simulate dice rolls. The first function will simulate rolling _x_ number of dice with _d_ faces. This will be repeated _n_ times.\n",
    "\n",
    "The second function will simulate rolling two sets of dice _n_ numbers of times. The first set has _x1_ dice with _d1_ faces. The second set has _x2_ dice with _d2_ faces. \n",
    "\n",
    "I then plotted the outcomes as histograms. \n",
    "\n",
    "I expected a normal distribution with a mean and standard deviation from the simulation results to approximate the distribution of the results at a sufficient value of x and n. This can be seen in the combined graph."
   ]
  },
  {
   "cell_type": "code",
   "execution_count": 1,
   "metadata": {},
   "outputs": [],
   "source": [
    "# Importing the modules needed\n",
    "%matplotlib inline\n",
    "\n",
    "import numpy as np # Converting lists to np arrays allows for vectorised operations.\n",
    "import matplotlib.pyplot as plt # I have used matplotlib to plot the histograms and probability distributions.\n",
    "import scipy.stats as stats # the SciPy Stats package is used to calculate the pdf basen on the mean and std.\n",
    "import re # re is used for parsing dice rolls inputted in a string format.\n",
    "import itertools # Itertools are used to easily produce the combinations of dice rolls possible, for calculating roll probabilities."
   ]
  },
  {
   "cell_type": "code",
   "execution_count": 16,
   "metadata": {},
   "outputs": [],
   "source": [
    "def roll_dice(x, d):\n",
    "    \"\"\"\n",
    "    Function to simulate rolling x dice with d number of faces\n",
    "    \"\"\"\n",
    "    roll = 0\n",
    "    for i in range(x):\n",
    "        roll += np.random.randint(1, d + 1)\n",
    "    return roll\n",
    "\n",
    "def simulate_dice_rolls(n, x, d):\n",
    "    \"\"\"This function simulates n dice rolls, for x number of dice, with d number of faces.\"\"\"\n",
    "    results = []\n",
    "    for i in range(n):\n",
    "        results.append(roll_dice(x, d))\n",
    "    results = np.asarray(results)\n",
    "    return results\n",
    "    "
   ]
  },
  {
   "cell_type": "code",
   "execution_count": 17,
   "metadata": {},
   "outputs": [],
   "source": [
    "# simulating a single dice rolls n times\n",
    "n = 100000\n",
    "x = 5\n",
    "d = 6\n",
    "max_roll = x * d\n",
    "\n",
    "results = simulate_dice_rolls(n, x, d)"
   ]
  },
  {
   "cell_type": "code",
   "execution_count": 18,
   "metadata": {},
   "outputs": [
    {
     "name": "stdout",
     "output_type": "stream",
     "text": [
      "5 15\n",
      "6 69\n",
      "7 198\n",
      "8 500\n",
      "9 914\n",
      "10 1619\n",
      "11 2584\n",
      "12 3951\n",
      "13 5312\n",
      "14 6845\n",
      "15 8480\n",
      "16 9471\n",
      "17 9893\n",
      "18 10010\n",
      "19 9421\n",
      "20 8442\n",
      "21 6978\n",
      "22 5467\n",
      "23 3880\n",
      "24 2714\n",
      "25 1584\n",
      "26 882\n",
      "27 493\n",
      "28 206\n",
      "29 61\n",
      "30 11\n"
     ]
    }
   ],
   "source": [
    "# printing the outcome frequencies\n",
    "for i in range(x, max_roll + 1):\n",
    "    print(i, np.sum(results == i))"
   ]
  },
  {
   "cell_type": "code",
   "execution_count": 19,
   "metadata": {},
   "outputs": [],
   "source": [
    "#Setting the width of the figures\n",
    "plt.rcParams['figure.figsize'] = [15, 5]"
   ]
  },
  {
   "cell_type": "code",
   "execution_count": 20,
   "metadata": {},
   "outputs": [
    {
     "data": {
      "text/plain": [
       "Text(0, 0.5, 'Frequency')"
      ]
     },
     "execution_count": 20,
     "metadata": {},
     "output_type": "execute_result"
    },
    {
     "data": {
      "image/png": "[encoded data removed]",
      "text/plain": [
       "<Figure size 1080x360 with 1 Axes>"
      ]
     },
     "metadata": {
      "needs_background": "light"
     },
     "output_type": "display_data"
    }
   ],
   "source": [
    "#Setting the width of the figures\n",
    "plt.rcParams['figure.figsize'] = [15, 5]\n",
    "\n",
    "#Plotting the results of the simulation a as histogram\n",
    "plt.hist(results, bins = np.arange(x, max_roll + 2) - 0.5, histtype = 'bar', \n",
    "         rwidth=0.8, facecolor = 'blue', edgecolor=\"k\")\n",
    "plt.xticks(np.arange(x, max_roll + 2))\n",
    "plt.title('Histogram to Show Outcomes of Simulating Rolling a Single Set of Dice')\n",
    "plt.xlabel('Roll Outcome')\n",
    "plt.ylabel('Frequency')"
   ]
  },
  {
   "cell_type": "code",
   "execution_count": 21,
   "metadata": {},
   "outputs": [
    {
     "name": "stdout",
     "output_type": "stream",
     "text": [
      "17.50847\n",
      "3.8300350206101252\n"
     ]
    }
   ],
   "source": [
    "# Calculating the mean and standard deviation of the results\n",
    "results.sort()\n",
    "mean = np.mean(results)\n",
    "print(mean)\n",
    "std = np.std(results)\n",
    "print(std)"
   ]
  },
  {
   "cell_type": "code",
   "execution_count": 31,
   "metadata": {},
   "outputs": [
    {
     "ename": "TypeError",
     "evalue": "text() missing 2 required positional arguments: 'y' and 's'",
     "output_type": "error",
     "traceback": [
      "\u001b[1;31m---------------------------------------------------------------------------\u001b[0m",
      "\u001b[1;31mTypeError\u001b[0m                                 Traceback (most recent call last)",
      "\u001b[1;32m<ipython-input-31-3b20e0f953dd>\u001b[0m in \u001b[0;36m<module>\u001b[1;34m\u001b[0m\n\u001b[0;32m      9\u001b[0m \u001b[0mplt\u001b[0m\u001b[1;33m.\u001b[0m\u001b[0mylabel\u001b[0m\u001b[1;33m(\u001b[0m\u001b[1;34m'Density'\u001b[0m\u001b[1;33m)\u001b[0m\u001b[1;33m\u001b[0m\u001b[1;33m\u001b[0m\u001b[0m\n\u001b[0;32m     10\u001b[0m \u001b[0mplt\u001b[0m\u001b[1;33m.\u001b[0m\u001b[0mlegend\u001b[0m\u001b[1;33m(\u001b[0m\u001b[0mloc\u001b[0m\u001b[1;33m=\u001b[0m\u001b[1;34m'upper right'\u001b[0m\u001b[1;33m)\u001b[0m\u001b[1;33m\u001b[0m\u001b[1;33m\u001b[0m\u001b[0m\n\u001b[1;32m---> 11\u001b[1;33m \u001b[0mplt\u001b[0m\u001b[1;33m.\u001b[0m\u001b[0mtext\u001b[0m\u001b[1;33m(\u001b[0m\u001b[1;34m'x'\u001b[0m\u001b[1;33m,\u001b[0m \u001b[0mloc\u001b[0m\u001b[1;33m=\u001b[0m\u001b[1;34m'upper left'\u001b[0m\u001b[1;33m)\u001b[0m\u001b[1;33m\u001b[0m\u001b[1;33m\u001b[0m\u001b[0m\n\u001b[0m\u001b[0;32m     12\u001b[0m \u001b[1;33m\u001b[0m\u001b[0m\n",
      "\u001b[1;31mTypeError\u001b[0m: text() missing 2 required positional arguments: 'y' and 's'"
     ]
    },
    {
     "data": {
      "image/png": "[encoded data removed]",
      "text/plain": [
       "<Figure size 1080x360 with 1 Axes>"
      ]
     },
     "metadata": {
      "needs_background": "light"
     },
     "output_type": "display_data"
    }
   ],
   "source": [
    "x_range = np.linspace(x, max_roll)\n",
    "pdf = stats.norm.pdf(x_range, mean, std)\n",
    "plt.plot(x_range, pdf, color = 'red', label = 'PDF using mean and std from results')\n",
    "plt.hist(results, bins = np.arange(x, max_roll + 2) - 0.5, histtype = 'bar', rwidth=0.8, \n",
    "         facecolor = 'blue', edgecolor=\"k\", density=True, label='Normalised histogram of simulated outcomes')\n",
    "plt.xticks(np.arange(x, max_roll + 2))\n",
    "plt.title('Histogram to Show Outcomes of Simulating Rolling a Single Set of Dice, with PDF overlayed')\n",
    "plt.xlabel('Roll Outcome')\n",
    "plt.ylabel('Density')\n",
    "plt.legend(loc='upper right')\n"
   ]
  },
  {
   "cell_type": "markdown",
   "metadata": {},
   "source": [
    "### Roll two different sets of dice simultaneously\n",
    "\n",
    "I also wrote a function which allows for the rolling of two different sets of dice to be simulated."
   ]
  },
  {
   "cell_type": "code",
   "execution_count": 11,
   "metadata": {},
   "outputs": [],
   "source": [
    "def simulate_two_sets_dice_rolls(n, x1, d1, x2, d2):\n",
    "    \"\"\"This simulates rolling two different sets of dice (with xi dnumber of dice with di number of faces) n times\"\"\"\n",
    "    roll_1 = []\n",
    "    roll_2 = []\n",
    "    for i in range(n):\n",
    "        roll_1.append(roll_dice(x1, d1))\n",
    "        roll_1_arr = np.asarray(roll_1)\n",
    "        roll_2.append(roll_dice(x2, d2))\n",
    "        roll_2_arr = np.asarray(roll_2)\n",
    "        \n",
    "    results_2 = roll_1_arr + roll_2_arr\n",
    "    return results_2\n"
   ]
  },
  {
   "cell_type": "code",
   "execution_count": 12,
   "metadata": {},
   "outputs": [],
   "source": [
    "n = 10000\n",
    "x1 = 2\n",
    "d1 = 6\n",
    "x2 = 2\n",
    "d2 = 6\n",
    "min_roll = x1 + x2\n",
    "max_roll_2 = (x1 * d1) + (x2 * d2)\n",
    "\n",
    "results_2 = simulate_two_sets_dice_rolls(n, x1, d1, x2, d2)"
   ]
  },
  {
   "cell_type": "code",
   "execution_count": 13,
   "metadata": {},
   "outputs": [
    {
     "data": {
      "text/plain": [
       "Text(0, 0.5, 'Frequency')"
      ]
     },
     "execution_count": 13,
     "metadata": {},
     "output_type": "execute_result"
    },
    {
     "data": {
      "image/png": "[encoded data removed]",
      "text/plain": [
       "<Figure size 1080x360 with 1 Axes>"
      ]
     },
     "metadata": {
      "needs_background": "light"
     },
     "output_type": "display_data"
    }
   ],
   "source": [
    "plt.hist(results_2, bins = np.arange(min_roll, max_roll_2 + 2) - 0.5, histtype = 'bar', \n",
    "         rwidth=0.8, facecolor = 'blue', edgecolor=\"k\")\n",
    "plt.xticks(np.arange(min_roll, max_roll_2 + 2))\n",
    "plt.title('Histogram to Show Outcomes of Simulating Rolling Two Sets of Dice')\n",
    "plt.xlabel('Roll Outcome')\n",
    "plt.ylabel('Frequency')"
   ]
  },
  {
   "cell_type": "code",
   "execution_count": 14,
   "metadata": {},
   "outputs": [
    {
     "data": {
      "text/plain": [
       "Text(0, 0.5, 'Frequency')"
      ]
     },
     "execution_count": 14,
     "metadata": {},
     "output_type": "execute_result"
    },
    {
     "data": {
      "image/png": "[encoded data removed]",
      "text/plain": [
       "<Figure size 1080x360 with 2 Axes>"
      ]
     },
     "metadata": {
      "needs_background": "light"
     },
     "output_type": "display_data"
    }
   ],
   "source": [
    "# Plotting single set of dice rolls alongside two sets of dice rolls such that the same number and type of dice are being\n",
    "# simulated in both cases\n",
    "\n",
    "n = 10000\n",
    "x1 = 2\n",
    "d1 = 6\n",
    "# Single dice roll\n",
    "results_1 = simulate_dice_rolls(n, 2*x1, d1)\n",
    "\n",
    "# Double dice roll\n",
    "results_2 = simulate_two_sets_dice_rolls(n, x1, d1, x1, d1)\n",
    "\n",
    "# Plotting two graphs side by side\n",
    "plt.subplot(121)\n",
    "plt.hist(results_1, bins = np.arange(x, max_roll + 2) - 0.5, histtype = 'bar', \n",
    "         rwidth=0.8, facecolor = 'blue', edgecolor=\"k\")\n",
    "plt.xticks(np.arange(x, max_roll + 2))\n",
    "plt.title('Single set of dice rolls simulated')\n",
    "plt.xlabel('Roll Outcome')\n",
    "plt.ylabel('Frequency')\n",
    "\n",
    "plt.subplot(122)\n",
    "plt.hist(results_2, bins = np.arange(min_roll, max_roll_2 + 2) - 0.5, histtype = 'bar', \n",
    "         rwidth=0.8, facecolor = 'blue', edgecolor=\"k\")\n",
    "plt.xticks(np.arange(min_roll, max_roll_2 + 2))\n",
    "plt.title('Two sets of dice rolls simulated')\n",
    "plt.xlabel('Roll Outcome')\n",
    "plt.ylabel('Frequency')"
   ]
  },
  {
   "cell_type": "markdown",
   "metadata": {},
   "source": [
    "## Individual Dice Rolls\n",
    "\n",
    "I have created the _dice_ class to be able to easily assign a die with attributes _x_, _d_ and _m_ and then apply a method to it to obtain one output for a dice roll."
   ]
  },
  {
   "cell_type": "code",
   "execution_count": 15,
   "metadata": {},
   "outputs": [],
   "source": [
    "class dice:\n",
    "    \"\"\"\n",
    "    The dice object is used to store the x, d and m attributes of a dice roll. Corresponds to a die xDd + m.\n",
    "    \"\"\"\n",
    "    \n",
    "    def __init__(self, x, d, m=0):\n",
    "        self.x = x\n",
    "        self.d = d\n",
    "        self.m = m\n",
    "    \n",
    "    def roll_dice(self):\n",
    "        \"\"\"The roll_dice method returns a dice roll outcome as an int based on the x, d and m values of a dice object\"\"\"\n",
    "        roll = 0\n",
    "        for i in range(self.x):\n",
    "            roll += np.random.randint(1, self.d + 1)\n",
    "        return roll + self.m\n",
    "        \n",
    "    def roll_dice_multi(self, n):\n",
    "        \"\"\"The roll_dice_muti method outputs n dice roll outcomes as a list based on the x, d and m values of a dice object\"\"\"\n",
    "        self.n = n \n",
    "        rolls = []\n",
    "        for j in range(self.n):\n",
    "            roll = 0\n",
    "            for i in range(self.x):\n",
    "                roll += np.random.randint(1, self.d + 1)\n",
    "                roll = roll + self.m\n",
    "            rolls.append(roll)\n",
    "        return rolls\n",
    "        "
   ]
  },
  {
   "cell_type": "code",
   "execution_count": 16,
   "metadata": {},
   "outputs": [
    {
     "name": "stdout",
     "output_type": "stream",
     "text": [
      "single dice roll:  10\n",
      "multiple dice rolls: [10, 13, 12, 10, 18]\n"
     ]
    }
   ],
   "source": [
    "r1 = dice(2, 6, 3)\n",
    "print(f\"single dice roll:  {r1.roll_dice()}\")\n",
    "print(f\"multiple dice rolls: {r1.roll_dice_multi(5)}\")"
   ]
  },
  {
   "cell_type": "markdown",
   "metadata": {},
   "source": [
    "### Take string input for dice rolls\n",
    "\n",
    "I want to parse the values of _x_, _d_ and _m_ from a string in a form similar to _**\"2d6 + 5\"**_. This will give a value that corresponds to rollnig 2 six-sided dice and then adding a value of 5. I can then use the roll_dice method to output a dice roll outcome:\n",
    "\n",
    "```python\n",
    "r = dice(2, 6)\n",
    "r.roll_add_mod(5)\n",
    "```\n",
    "\n",
    "I need the following requirements:\n",
    "1. The input format shouldn't be case sensitive, 3d6 == 3D6.\n",
    "2. A modifier value can be used but is not neccessary.\n",
    "3. Any spaces between characters are ignored, 2d4 + 2 == 2d4+2 == 2d4 +2 etc.\n",
    "4. Values should be able to be a integer of any length.\n",
    "\n",
    "My first attempt did not allow double digit values, required a modifier value and was sensitive to spaces. Therefore it violated requirements 2, 3 and 4:"
   ]
  },
  {
   "cell_type": "code",
   "execution_count": 17,
   "metadata": {},
   "outputs": [
    {
     "name": "stdout",
     "output_type": "stream",
     "text": [
      "x is 2\n",
      "d is 4\n"
     ]
    },
    {
     "data": {
      "text/plain": [
       "6"
      ]
     },
     "execution_count": 17,
     "metadata": {},
     "output_type": "execute_result"
    }
   ],
   "source": [
    "string = \"2d4 + 5\"\n",
    "# can get first and third characters using slicing\n",
    "\n",
    "x = int(string[0])\n",
    "d = int(string[2])\n",
    "print(f\"x is {x}\")\n",
    "print(f\"d is {d}\")\n",
    "\n",
    "r = dice(x, d)\n",
    "r.roll_dice()"
   ]
  },
  {
   "cell_type": "markdown",
   "metadata": {},
   "source": [
    "The position of the modifier value in the string is variable. The best way to access this is to choose the last value. We do this with a negative index."
   ]
  },
  {
   "cell_type": "code",
   "execution_count": 18,
   "metadata": {},
   "outputs": [
    {
     "name": "stdout",
     "output_type": "stream",
     "text": [
      "m is 5\n"
     ]
    }
   ],
   "source": [
    "m = int(string[-1])\n",
    "print(f\"m is {m}\")"
   ]
  },
  {
   "cell_type": "code",
   "execution_count": 19,
   "metadata": {},
   "outputs": [],
   "source": [
    "# we can write a new function which can handle a sting input for dice by parsing values for x, d and m\n",
    "\n",
    "def roll_dice_from_string(string):\n",
    "    x = int(string[0])\n",
    "    d = int(string[2])\n",
    "    r = dice(x, d)\n",
    "    if '+' in string:\n",
    "        m = int(string[-1])\n",
    "        r = dice(x, d, m)\n",
    "        print(\"'{}D{} + {}' rolled\".format(x, d, m))\n",
    "        return r.roll_dice()\n",
    "    else:\n",
    "        print(\"'{}D{}' rolled\".format(x, d))\n",
    "        return r.roll_dice()\n",
    "        "
   ]
  },
  {
   "cell_type": "code",
   "execution_count": 20,
   "metadata": {},
   "outputs": [
    {
     "name": "stdout",
     "output_type": "stream",
     "text": [
      "'4D3 + 2' rolled\n"
     ]
    },
    {
     "data": {
      "text/plain": [
       "9"
      ]
     },
     "execution_count": 20,
     "metadata": {},
     "output_type": "execute_result"
    }
   ],
   "source": [
    "roll_dice_from_string(\"4D3+  2\")"
   ]
  },
  {
   "cell_type": "markdown",
   "metadata": {},
   "source": [
    "The problem with the above is it only works if the values for x, d and m are single digit values. To take multiple digit values the above must be changed to use D and + as delimiters."
   ]
  },
  {
   "cell_type": "code",
   "execution_count": 21,
   "metadata": {},
   "outputs": [
    {
     "name": "stdout",
     "output_type": "stream",
     "text": [
      "2d6+6\n"
     ]
    }
   ],
   "source": [
    "# Split string on d character\n",
    "string = \"2d6 + 6\"\n",
    "string = string.replace(' ', '')\n",
    "print(string)\n",
    "roll_elements = re.split('[d, D, +,]', string)"
   ]
  },
  {
   "cell_type": "markdown",
   "metadata": {},
   "source": [
    "We can redefine the roll from string function so that it takes x, d and m if applicable from the resulting list:\n",
    "\n"
   ]
  },
  {
   "cell_type": "code",
   "execution_count": 22,
   "metadata": {},
   "outputs": [],
   "source": [
    "def roll_dice_from_string(string):\n",
    "    string = string.replace(' ', '')\n",
    "    print(string)\n",
    "    roll_elements = re.split('[d, D, +,]', string)\n",
    "    x = int(roll_elements[0])\n",
    "    d = int(roll_elements[1])\n",
    "    r = dice(x, d)\n",
    "    if len(roll_elements) == 3:\n",
    "        m = int(roll_elements[2])\n",
    "        print(\"'{}D{} + {}' rolled\".format(x, d, m))\n",
    "        r = dice(x, d, m)\n",
    "        return r.roll_dice()\n",
    "    else:\n",
    "        print(\"'{}D{}' rolled\".format(x, d))\n",
    "        return r.roll_dice()\n",
    "        "
   ]
  },
  {
   "cell_type": "code",
   "execution_count": 23,
   "metadata": {},
   "outputs": [
    {
     "name": "stdout",
     "output_type": "stream",
     "text": [
      "2d20+3\n",
      "'2D20 + 3' rolled\n"
     ]
    },
    {
     "data": {
      "text/plain": [
       "26"
      ]
     },
     "execution_count": 23,
     "metadata": {},
     "output_type": "execute_result"
    }
   ],
   "source": [
    "roll_dice_from_string(\"2d20 + 3\")"
   ]
  },
  {
   "cell_type": "markdown",
   "metadata": {},
   "source": [
    "### Take comma seperated list of rolls as input\n",
    "\n",
    "To be able to take multiple inputs for dice rolls from a single string, with inputs seperated by a comma, I created a function to convert"
   ]
  },
  {
   "cell_type": "code",
   "execution_count": 24,
   "metadata": {},
   "outputs": [
    {
     "name": "stdout",
     "output_type": "stream",
     "text": [
      "['2d4 + 2', ' 3d6 + 4', ' 3D2', ' 2d20']\n"
     ]
    }
   ],
   "source": [
    "rolls = \"2d4 + 2, 3d6 + 4, 3D2, 2d20\"\n",
    "rolls_split = rolls.split(',')\n",
    "print(rolls_split)"
   ]
  },
  {
   "cell_type": "code",
   "execution_count": 25,
   "metadata": {
    "scrolled": true
   },
   "outputs": [
    {
     "name": "stdout",
     "output_type": "stream",
     "text": [
      "[['2', '4', '2'], ['3', '6', '4'], ['3', '2'], ['2', '20']]\n"
     ]
    }
   ],
   "source": [
    "rolls_list = []\n",
    "for rolls in rolls_split:\n",
    "    rolls = rolls.replace(' ', '')\n",
    "    rolls = re.split('[d, D, +,]', rolls)\n",
    "    rolls_list.append(rolls)\n",
    "print (rolls_list)\n"
   ]
  },
  {
   "cell_type": "markdown",
   "metadata": {},
   "source": [
    "Next the list elements should all be the same length.\n",
    "    \n"
   ]
  },
  {
   "cell_type": "markdown",
   "metadata": {},
   "source": [
    "Bringing this together ina function:"
   ]
  },
  {
   "cell_type": "code",
   "execution_count": 26,
   "metadata": {},
   "outputs": [],
   "source": [
    "def roll_dice_from_string_multi(string):\n",
    "    rolls_list = []\n",
    "    rolls_split = string.split(',')\n",
    "    \n",
    "    for rolls in rolls_split:\n",
    "        rolls = rolls.replace(' ', '')\n",
    "        rolls = re.split('[d, D, +,]', rolls)\n",
    "        rolls_list.append(rolls)\n",
    "          \n",
    "    i = 0\n",
    "    outcomes = []\n",
    "    for roll in rolls_list:\n",
    "        i += 1\n",
    "        x = int(roll[0])\n",
    "        d = int(roll[1])\n",
    "        \n",
    "        if len(roll) == 2:\n",
    "            print(\"dice roll {} is '{}D{}'\".format(i, x, d))\n",
    "            r = dice(x, d)\n",
    "            outcomes.append(r.roll_dice())\n",
    "            \n",
    "        else:\n",
    "            m = int(roll[2])\n",
    "            print(\"dice roll {} is '{}D{} + {}'\".format(i, x, d, m))\n",
    "            r = dice(x, d, m)\n",
    "            outcomes.append(r.roll_dice())\n",
    "    print(f\"Number of rolls: {i}\")\n",
    "    return outcomes"
   ]
  },
  {
   "cell_type": "code",
   "execution_count": 27,
   "metadata": {},
   "outputs": [
    {
     "name": "stdout",
     "output_type": "stream",
     "text": [
      "dice roll 1 is '2D20'\n",
      "dice roll 2 is '2D8 + 2'\n",
      "dice roll 3 is '2D6 + 4'\n",
      "Number of rolls: 3\n"
     ]
    },
    {
     "data": {
      "text/plain": [
       "[29, 13, 11]"
      ]
     },
     "execution_count": 27,
     "metadata": {},
     "output_type": "execute_result"
    }
   ],
   "source": [
    "roll_dice_from_string_multi(\"2d20, 2D8 + 2, 2d6+4\")"
   ]
  },
  {
   "cell_type": "markdown",
   "metadata": {},
   "source": [
    "## Calculating Probabilites for Dice Rolls\n",
    "\n",
    "I want to be able to achieve the following:\n",
    "1. Calculate the probability of each possible outcome, given a specified dice roll.\n",
    "2. Plot all the probabilites for each outcome, given z specified dice roll.\n",
    "3. Calculate the probability of a single possible outcome given a specified roll.\n",
    "4. Plot a probability of a specific outcome against all the probailities for each outcome, given a specified dice roll.\n",
    "\n",
    "The way I intend to do this is to:\n",
    "1. Produce all the possible combinations of the outcomes for rolling specified dice. e.g. producing all the possible outcomes for rolling two four-sided die.\n",
    "2. After producing these combinations, summing the individual dice rolls to give a total outcome for the combined dice roll. For example if I roll 2d6 and get a 2 and a 3, then the total outcome will be 2 + 3 = 5.\n",
    "3. If there a any modifier present in the dice roll, add it to all the total outcomes.\n",
    "4. Count the frequency of each total outcome.\n",
    "5. Divide each frequency by the total  number of combinations. This will give the probability for each outcome.\n",
    "\n",
    "Tjhe best way to do this is with Numpy arrays. This is because it is much easier and quicker to do vector operations, such as adding a modifier to each outcome, diving each frequency by the total number of outcomes etc.\n",
    "\n",
    "I will use the module itertools to produce all the possible combinations of multiple dice."
   ]
  },
  {
   "cell_type": "code",
   "execution_count": 34,
   "metadata": {},
   "outputs": [],
   "source": [
    "# creating list of all the dice roll combinations\n",
    "\n",
    "x = 2\n",
    "d = 4\n",
    "combinations = itertools.product(range(1, d + 1), repeat = x)"
   ]
  },
  {
   "cell_type": "code",
   "execution_count": 35,
   "metadata": {},
   "outputs": [
    {
     "data": {
      "text/plain": [
       "<itertools.product at 0x1faae0728b8>"
      ]
     },
     "execution_count": 35,
     "metadata": {},
     "output_type": "execute_result"
    }
   ],
   "source": [
    "combinations"
   ]
  },
  {
   "cell_type": "markdown",
   "metadata": {},
   "source": [
    "This can then be converted to a list and then to a NumPy array:"
   ]
  },
  {
   "cell_type": "code",
   "execution_count": 36,
   "metadata": {},
   "outputs": [],
   "source": [
    "combinations_array = np.asarray(list(combinations))"
   ]
  },
  {
   "cell_type": "code",
   "execution_count": 37,
   "metadata": {},
   "outputs": [
    {
     "data": {
      "text/plain": [
       "array([[1, 1],\n",
       "       [1, 2],\n",
       "       [1, 3],\n",
       "       [1, 4],\n",
       "       [2, 1],\n",
       "       [2, 2],\n",
       "       [2, 3],\n",
       "       [2, 4],\n",
       "       [3, 1],\n",
       "       [3, 2],\n",
       "       [3, 3],\n",
       "       [3, 4],\n",
       "       [4, 1],\n",
       "       [4, 2],\n",
       "       [4, 3],\n",
       "       [4, 4]])"
      ]
     },
     "execution_count": 37,
     "metadata": {},
     "output_type": "execute_result"
    }
   ],
   "source": [
    "combinations_array"
   ]
  },
  {
   "cell_type": "markdown",
   "metadata": {},
   "source": [
    "I now want to sum the elements to get the possible outcomes of the rolls. Then I can count the frequency of each outcome:"
   ]
  },
  {
   "cell_type": "code",
   "execution_count": 38,
   "metadata": {},
   "outputs": [],
   "source": [
    "row_sums = combinations_array.sum(axis=1)"
   ]
  },
  {
   "cell_type": "code",
   "execution_count": 39,
   "metadata": {},
   "outputs": [],
   "source": [
    "# np.unique as the option to return the counts for each unique element\n",
    "outcome, count = np.unique(row_sums, return_counts=True)"
   ]
  },
  {
   "cell_type": "markdown",
   "metadata": {},
   "source": [
    "Calculating the probabilities of each outcome by diving the count of the outcome by the total number of outcomes (length of the original list):"
   ]
  },
  {
   "cell_type": "code",
   "execution_count": 40,
   "metadata": {},
   "outputs": [],
   "source": [
    "p = count/len(combinations_array)"
   ]
  },
  {
   "cell_type": "code",
   "execution_count": 41,
   "metadata": {},
   "outputs": [
    {
     "data": {
      "text/plain": [
       "array([0.0625, 0.125 , 0.1875, 0.25  , 0.1875, 0.125 , 0.0625])"
      ]
     },
     "execution_count": 41,
     "metadata": {},
     "output_type": "execute_result"
    }
   ],
   "source": [
    "p"
   ]
  },
  {
   "cell_type": "markdown",
   "metadata": {},
   "source": [
    "Bringing the outcomes, counts and probabilities into a single array:"
   ]
  },
  {
   "cell_type": "code",
   "execution_count": 42,
   "metadata": {},
   "outputs": [],
   "source": [
    "probability_array = np.asarray([outcome, count, p])"
   ]
  },
  {
   "cell_type": "code",
   "execution_count": 43,
   "metadata": {},
   "outputs": [],
   "source": [
    "probability_array = probability_array.T"
   ]
  },
  {
   "cell_type": "code",
   "execution_count": 44,
   "metadata": {},
   "outputs": [
    {
     "data": {
      "text/plain": [
       "array([[2.    , 1.    , 0.0625],\n",
       "       [3.    , 2.    , 0.125 ],\n",
       "       [4.    , 3.    , 0.1875],\n",
       "       [5.    , 4.    , 0.25  ],\n",
       "       [6.    , 3.    , 0.1875],\n",
       "       [7.    , 2.    , 0.125 ],\n",
       "       [8.    , 1.    , 0.0625]])"
      ]
     },
     "execution_count": 44,
     "metadata": {},
     "output_type": "execute_result"
    }
   ],
   "source": [
    "probability_array"
   ]
  },
  {
   "cell_type": "markdown",
   "metadata": {},
   "source": [
    "If we need to add a modifier we can add it to the outcomes column:"
   ]
  },
  {
   "cell_type": "code",
   "execution_count": 45,
   "metadata": {},
   "outputs": [],
   "source": [
    "m = 5\n",
    "\n",
    "probability_array[:, 0] = probability_array[:, 0] + m"
   ]
  },
  {
   "cell_type": "code",
   "execution_count": 46,
   "metadata": {},
   "outputs": [
    {
     "data": {
      "text/plain": [
       "array([[ 7.    ,  1.    ,  0.0625],\n",
       "       [ 8.    ,  2.    ,  0.125 ],\n",
       "       [ 9.    ,  3.    ,  0.1875],\n",
       "       [10.    ,  4.    ,  0.25  ],\n",
       "       [11.    ,  3.    ,  0.1875],\n",
       "       [12.    ,  2.    ,  0.125 ],\n",
       "       [13.    ,  1.    ,  0.0625]])"
      ]
     },
     "execution_count": 46,
     "metadata": {},
     "output_type": "execute_result"
    }
   ],
   "source": [
    "probability_array"
   ]
  },
  {
   "cell_type": "markdown",
   "metadata": {},
   "source": [
    "In a function this can be added to the 1-D outcome array rather than the probability array."
   ]
  },
  {
   "cell_type": "code",
   "execution_count": 47,
   "metadata": {},
   "outputs": [
    {
     "data": {
      "text/plain": [
       "<BarContainer object of 7 artists>"
      ]
     },
     "execution_count": 47,
     "metadata": {},
     "output_type": "execute_result"
    },
    {
     "data": {
      "image/png": "[encoded data removed]",
      "text/plain": [
       "<Figure size 1080x360 with 1 Axes>"
      ]
     },
     "metadata": {
      "needs_background": "light"
     },
     "output_type": "display_data"
    }
   ],
   "source": [
    "x_values = probability_array[:, 0]\n",
    "y_values = probability_array[:, 2]\n",
    "plt.bar(x_values, y_values)"
   ]
  },
  {
   "cell_type": "markdown",
   "metadata": {},
   "source": [
    "A method can be written in the dice class which produces the probabilities array for the specified dice roll:"
   ]
  },
  {
   "cell_type": "code",
   "execution_count": 3,
   "metadata": {},
   "outputs": [],
   "source": [
    "class dice:\n",
    "    \"\"\"\n",
    "    The dice object is used to store the x, d and m attributes of a dice roll. Corresponds to a die xDd + m.\n",
    "    \"\"\"\n",
    "    \n",
    "    def __init__(self, x, d, m=0):\n",
    "        self.x = x\n",
    "        self.d = d\n",
    "        self.m = m\n",
    "    \n",
    "    def roll_dice(self):\n",
    "        \"\"\"The roll_dice method returns a dice roll outcome as an int based on the x, d and m values of a dice object\"\"\"\n",
    "        roll = 0\n",
    "        for i in range(self.x):\n",
    "            roll += np.random.randint(1, self.d + 1)\n",
    "        return roll + self.m\n",
    "        \n",
    "    def roll_dice_multi(self, n):\n",
    "        \"\"\"The roll_dice_muti method outputs n dice roll outcomes as a list based on the x, d and m values of a dice object\"\"\"\n",
    "        self.n = n \n",
    "        rolls = []\n",
    "        for j in range(self.n):\n",
    "            roll = 0\n",
    "            for i in range(self.x):\n",
    "                roll += np.random.randint(1, self.d + 1)\n",
    "                roll = roll + self.m\n",
    "            rolls.append(roll)\n",
    "        return rolls\n",
    "    \n",
    "    def calc_outcome_probabilities(self):\n",
    "        combinations = itertools.product(range(1, self.d + 1), repeat = self.x)\n",
    "        combinations_array = np.asarray(list(combinations))\n",
    "        row_sums = combinations_array.sum(axis=1)\n",
    "        outcome, count = np.unique(row_sums, return_counts=True)\n",
    "        outcome = outcome + self.m\n",
    "        p = count/len(combinations_array)\n",
    "        probability_array = np.asarray([outcome, count, p])\n",
    "        return probability_array.T"
   ]
  },
  {
   "cell_type": "code",
   "execution_count": 18,
   "metadata": {},
   "outputs": [
    {
     "data": {
      "text/plain": [
       "array([[ 2.        ,  1.        ,  0.02777778],\n",
       "       [ 3.        ,  2.        ,  0.05555556],\n",
       "       [ 4.        ,  3.        ,  0.08333333],\n",
       "       [ 5.        ,  4.        ,  0.11111111],\n",
       "       [ 6.        ,  5.        ,  0.13888889],\n",
       "       [ 7.        ,  6.        ,  0.16666667],\n",
       "       [ 8.        ,  5.        ,  0.13888889],\n",
       "       [ 9.        ,  4.        ,  0.11111111],\n",
       "       [10.        ,  3.        ,  0.08333333],\n",
       "       [11.        ,  2.        ,  0.05555556],\n",
       "       [12.        ,  1.        ,  0.02777778]])"
      ]
     },
     "execution_count": 18,
     "metadata": {},
     "output_type": "execute_result"
    }
   ],
   "source": [
    "r1 = dice(2, 6)\n",
    "r1.calc_outcome_probabilities()"
   ]
  },
  {
   "cell_type": "code",
   "execution_count": 19,
   "metadata": {},
   "outputs": [
    {
     "data": {
      "text/plain": [
       "array([[ 5.    ,  1.    ,  0.0625],\n",
       "       [ 6.    ,  2.    ,  0.125 ],\n",
       "       [ 7.    ,  3.    ,  0.1875],\n",
       "       [ 8.    ,  4.    ,  0.25  ],\n",
       "       [ 9.    ,  3.    ,  0.1875],\n",
       "       [10.    ,  2.    ,  0.125 ],\n",
       "       [11.    ,  1.    ,  0.0625]])"
      ]
     },
     "execution_count": 19,
     "metadata": {},
     "output_type": "execute_result"
    }
   ],
   "source": [
    "r2 = dice(2, 4, 3)\n",
    "r2.calc_outcome_probabilities()"
   ]
  },
  {
   "cell_type": "markdown",
   "metadata": {},
   "source": [
    "I want to be able to easily plot the results of the able method in Matplotlib. For that I can write a function:"
   ]
  },
  {
   "cell_type": "code",
   "execution_count": 4,
   "metadata": {},
   "outputs": [],
   "source": [
    "def plot_outcome_probabilities(x, d, m=0):\n",
    "    r = dice(x, d, m)\n",
    "    array = r.calc_outcome_probabilities()\n",
    "    x_values = array[:, 0]\n",
    "    y_values = array[:, 2]\n",
    "    plt.xlabel('Outcome')\n",
    "    plt.ylabel('Probability')\n",
    "    plt.bar(x_values, y_values)\n",
    "    plt.plot(x_values, y_values, color = 'red')\n",
    "    #plot different titles depending if m = 0 or not\n",
    "    \n",
    "    if  m == 0:\n",
    "          plt.title(f'Probabilities for each Outcome of Rolling {x}D{d}')\n",
    "    else:\n",
    "          plt.title(f'Probabilities for each Outcome of Rolling {x}D{d} + {m}')"
   ]
  },
  {
   "cell_type": "code",
   "execution_count": 5,
   "metadata": {},
   "outputs": [
    {
     "data": {
      "image/png": "[encoded data removed]",
      "text/plain": [
       "<Figure size 1080x360 with 1 Axes>"
      ]
     },
     "metadata": {
      "needs_background": "light"
     },
     "output_type": "display_data"
    }
   ],
   "source": [
    "plot_outcome_probabilities(2, 6, 2)"
   ]
  },
  {
   "cell_type": "markdown",
   "metadata": {},
   "source": [
    "To calculate the probability of a given outcome you can filter the outcomes array, for example calculating the probability of rolling 8, when rolling 2 six-sided dice:"
   ]
  },
  {
   "cell_type": "code",
   "execution_count": 245,
   "metadata": {},
   "outputs": [],
   "source": [
    "r = dice(2, 6)\n",
    "array = r.calc_outcome_probabilities()"
   ]
  },
  {
   "cell_type": "code",
   "execution_count": 246,
   "metadata": {},
   "outputs": [],
   "source": [
    "array_filtered = array[array[:, 0] == 8]"
   ]
  },
  {
   "cell_type": "code",
   "execution_count": 247,
   "metadata": {},
   "outputs": [],
   "source": [
    "probability = float(array_filtered[:,2])"
   ]
  },
  {
   "cell_type": "code",
   "execution_count": 248,
   "metadata": {},
   "outputs": [
    {
     "data": {
      "text/plain": [
       "0.1388888888888889"
      ]
     },
     "execution_count": 248,
     "metadata": {},
     "output_type": "execute_result"
    }
   ],
   "source": [
    "probability"
   ]
  },
  {
   "cell_type": "markdown",
   "metadata": {},
   "source": [
    "Plotting this probability on top of the previous graph:"
   ]
  },
  {
   "cell_type": "code",
   "execution_count": 59,
   "metadata": {},
   "outputs": [
    {
     "data": {
      "text/plain": [
       "<matplotlib.legend.Legend at 0x1faafb3e108>"
      ]
     },
     "execution_count": 59,
     "metadata": {},
     "output_type": "execute_result"
    },
    {
     "data": {
      "image/png": "[encoded data removed]",
      "text/plain": [
       "<Figure size 1080x360 with 1 Axes>"
      ]
     },
     "metadata": {
      "needs_background": "light"
     },
     "output_type": "display_data"
    }
   ],
   "source": [
    "x = 3\n",
    "d = 20\n",
    "v = 15\n",
    "\n",
    "plot_outcome_probabilites(x, d)\n",
    "r = dice(x, d)\n",
    "array = r.calc_outcome_probabilities()\n",
    "array_filtered = array[array[:, 0] == v]\n",
    "probability = float(array_filtered[:,2])\n",
    "plt.bar(v, probability, color = 'green', label = f'Probability of Rolling {v}')\n",
    "plt.legend(loc = 'upper right')"
   ]
  }
 ],
 "metadata": {
  "kernelspec": {
   "display_name": "Python 3",
   "language": "python",
   "name": "python3"
  },
  "language_info": {
   "codemirror_mode": {
    "name": "ipython",
    "version": 3
   },
   "file_extension": ".py",
   "mimetype": "text/x-python",
   "name": "python",
   "nbconvert_exporter": "python",
   "pygments_lexer": "ipython3",
   "version": "3.7.7"
  }
 },
 "nbformat": 4,
 "nbformat_minor": 2
}
